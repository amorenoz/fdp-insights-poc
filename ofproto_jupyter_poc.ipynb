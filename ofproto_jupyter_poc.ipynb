{
 "cells": [
  {
   "cell_type": "markdown",
   "id": "controlling-alert",
   "metadata": {},
   "source": [
    "# Insights-based OVS Flow Visualization PoC\n"
   ]
  },
  {
   "cell_type": "code",
   "execution_count": 1,
   "id": "weekly-journalism",
   "metadata": {},
   "outputs": [
    {
     "data": {
      "text/html": [
       "<style>.container { width:100% !important; }</style>"
      ],
      "text/plain": [
       "<IPython.core.display.HTML object>"
      ]
     },
     "metadata": {},
     "output_type": "display_data"
    }
   ],
   "source": [
    "# A bit of styling sugar\n",
    "from IPython.core.display import display, HTML\n",
    "display(HTML(\"<style>.container { width:100% !important; }</style>\"))"
   ]
  },
  {
   "cell_type": "markdown",
   "id": "rough-familiar",
   "metadata": {},
   "source": [
    "## INPUT"
   ]
  },
  {
   "cell_type": "code",
   "execution_count": 2,
   "id": "broken-fifty",
   "metadata": {},
   "outputs": [],
   "source": [
    "#SOS_REPORT_PATH=\"/home/amorenoz/dev/sosreports/sosreport-tvhpmc1-pctl002-02710209-2020-07-24-unymyvy\"\n",
    "SOS_REPORT_PATH= \"/home/amorenoz/dev/sosreports/sosreport-actlr2-1838-Jan22-2021-2021-01-22-nvjaddl\""
   ]
  },
  {
   "cell_type": "markdown",
   "id": "still-homework",
   "metadata": {},
   "source": [
    "## Insights OVN/OVS helpers"
   ]
  },
  {
   "cell_type": "code",
   "execution_count": 3,
   "id": "missing-prospect",
   "metadata": {},
   "outputs": [],
   "source": [
    "from insights.specs import Specs\n",
    "from insights import Parser, parser\n",
    "from insights.specs.sos_archive import SosSpecs\n",
    "from insights.core.context import SosArchiveContext\n",
    "from insights.core.spec_factory import first_file, RegistryPoint\n",
    "from insights.parsers import SkipException\n",
    "\n",
    "\n",
    "\n",
    "import json\n",
    "import six\n",
    "\n",
    "class OVNSpecs(Specs):\n",
    "    ovnnb_db = first_file([\"/var/lib/openvswitch/ovn/ovnnb_db.db\",\n",
    "                           \"/usr/local/etc/openvswitch/ovnnb_db.db\",\n",
    "                           \"/etc/openvswitch/ovnnb_db.db\",\n",
    "                           \"/var/lib/openvswitch/ovnnb_db.db\"], context=SosArchiveContext)\n",
    "    \n",
    "    ovnsb_db = first_file([\"/var/lib/openvswitch/ovn/ovnsb_db.db\",\n",
    "                           \"/usr/local/etc/openvswitch/ovnsb_db.db\",\n",
    "                           \"/etc/openvswitch/ovnsb_db.db\",\n",
    "                           \"/var/lib/openvswitch/ovnsb_db.db\"], context=SosArchiveContext)\n",
    "\n",
    "    \n",
    "## Expects the db file to have been compressed using ovsdb-tool\n",
    "# ovsdb-tool compact ovnnb_db.db\n",
    "class OVSDBParser(Parser):\n",
    "    def __init__(self, *args, **kwargs):\n",
    "         self._db= {}\n",
    "         self._schema = {}\n",
    "        \n",
    "         super(OVSDBParser, self).__init__(*args, **kwargs)\n",
    "    \n",
    "    def parse_content(self, content):\n",
    "        if not content:\n",
    "            raise SkipException(\"Empty Content!\")\n",
    "            \n",
    "        for line in content:\n",
    "            if self._is_header(line):\n",
    "                continue\n",
    "            \n",
    "            data = {}\n",
    "            \n",
    "            try:\n",
    "                data = json.loads(line)\n",
    "            except:\n",
    "                tb = sys.exc_info()[2]\n",
    "                cls = self.__class__\n",
    "                name = \".\".join([cls.__module__, cls.__name__])\n",
    "                msg = \"%s couldn't parse json.\" % name\n",
    "                six.reraise(ParseException, ParseException(msg), tb)\n",
    "            \n",
    "            if self._is_schema(data):\n",
    "                self._schema = data\n",
    "            else:\n",
    "                self._db = data\n",
    "            \n",
    "        if not self._db or not self._schema:\n",
    "            raise SkipException('Invalid Content!')\n",
    "                \n",
    "    @property\n",
    "    def schema(self):\n",
    "        return self._schema\n",
    "    \n",
    "    @property\n",
    "    def db(self):\n",
    "        return self._db\n",
    "\n",
    "    def _is_schema(self, data):\n",
    "        return 'cksum' in data\n",
    "        \n",
    "    def _is_header(self, line):\n",
    "        return \"OVSDB JSON\" in line\n",
    "\n",
    "\n",
    "@parser(OVNSpecs.ovnnb_db)\n",
    "class OVNNBParser(OVSDBParser):\n",
    "    def __init__(self, *args, **kwargs):\n",
    "        super(OVNNBParser, self).__init__(*args, **kwargs)\n",
    "\n",
    "        \n",
    "@parser(OVNSpecs.ovnsb_db)\n",
    "class OVNSBParser(OVSDBParser):\n",
    "    def __init__(self, *args, **kwargs):\n",
    "        super(OVNSBParser, self).__init__(*args, **kwargs)\n",
    "    \n",
    "    \n"
   ]
  },
  {
   "cell_type": "code",
   "execution_count": 4,
   "id": "neutral-executive",
   "metadata": {},
   "outputs": [],
   "source": [
    "from insights.core.context import SosArchiveContext\n",
    "from insights.parsers.ovs_ofctl_dump_flows import OVSofctlDumpFlows\n",
    "from insights.core import dr\n",
    "\n",
    "\n",
    "ctx = SosArchiveContext(root=SOS_REPORT_PATH)\n",
    "broker = dr.Broker()\n",
    "broker[SosArchiveContext] = ctx\n",
    "broker = dr.run(broker=broker)"
   ]
  },
  {
   "cell_type": "markdown",
   "id": "sticky-wayne",
   "metadata": {},
   "source": [
    "- Add missing ovs_ofctl_dump_flows to SosArchiveContext"
   ]
  },
  {
   "cell_type": "code",
   "execution_count": 5,
   "id": "noticed-activation",
   "metadata": {},
   "outputs": [],
   "source": [
    "#from insights.specs import Specs\n",
    "#from insights.core.spec_factory import glob_file\n",
    "#from insights.specs.sos_archive import SosSpecs\n",
    "\n",
    "#class SosSpecs2(Specs):\n",
    "#    ovs_ofctl_dump_flows = glob_file(\"/sos_commands/openvswitch/ovs-ofctl_dump-flows*\", context=SosArchiveContext)"
   ]
  },
  {
   "cell_type": "markdown",
   "id": "cellular-partnership",
   "metadata": {},
   "source": [
    "## Visualization helpers"
   ]
  },
  {
   "cell_type": "code",
   "execution_count": 6,
   "id": "particular-compilation",
   "metadata": {},
   "outputs": [],
   "source": [
    "# QGrid seems like a good way to show interactive tables\n",
    "import pandas as pd\n",
    "\n",
    "import qgrid\n",
    "def show_table(dframe):\n",
    "    ## Drop columns with all missing values\n",
    "    ## Todo: readonly\n",
    "    return qgrid.show_grid(dframe.dropna(axis=1, how='all'))\n"
   ]
  },
  {
   "cell_type": "markdown",
   "id": "offshore-channel",
   "metadata": {},
   "source": [
    "## Data extraction"
   ]
  },
  {
   "cell_type": "code",
   "execution_count": 7,
   "id": "apparent-cooper",
   "metadata": {},
   "outputs": [],
   "source": [
    "# OVN\n",
    "ovn_nb = {}\n",
    "for table, content in broker[OVNNBParser].db.items():\n",
    "    if table in [\"_date\", \"_comment\"]:\n",
    "        continue\n",
    "    ovn_nb[table] = pd.DataFrame.from_dict(content, orient='index')\n",
    "\n",
    "ovn_sb = {}\n",
    "for table, content in broker[OVNSBParser].db.items():\n",
    "    if table in [\"_date\", \"_comment\"]:\n",
    "        continue\n",
    "    ovn_sb[table] = pd.DataFrame.from_dict(content, orient='index')\n",
    "\n",
    "# OVS\n",
    "bridges = [parser.bridge_name for parser in broker[OVSofctlDumpFlows]]\n",
    "ofdumps = { bridge: pd.DataFrame(list(filter(lambda x: x.bridge_name == bridge, broker[OVSofctlDumpFlows]))[0].flow_dumps)\n",
    "         for bridge in bridges\n",
    "}    "
   ]
  },
  {
   "cell_type": "markdown",
   "id": "composite-customer",
   "metadata": {},
   "source": [
    "## Visualization"
   ]
  },
  {
   "cell_type": "code",
   "execution_count": 8,
   "id": "binding-korean",
   "metadata": {},
   "outputs": [],
   "source": [
    "import string\n",
    "import numpy\n",
    "from ipywidgets import interact, interact_manual\n",
    "import ipywidgets as widgets"
   ]
  },
  {
   "cell_type": "markdown",
   "id": "weekly-advancement",
   "metadata": {},
   "source": [
    "### OVS"
   ]
  },
  {
   "cell_type": "code",
   "execution_count": 12,
   "id": "incredible-sigma",
   "metadata": {
    "scrolled": true
   },
   "outputs": [
    {
     "data": {
      "application/vnd.jupyter.widget-view+json": {
       "model_id": "e3cc5fc2c711414c9ea37f00ea2315ec",
       "version_major": 2,
       "version_minor": 0
      },
      "text/plain": [
       "interactive(children=(Dropdown(description='Bridge:', options=('br-ex', 'br-int', 'br-private'), value='br-ex'…"
      ]
     },
     "metadata": {},
     "output_type": "display_data"
    }
   ],
   "source": [
    "pd.set_option('display.max_colwidth', None)\n",
    "selected = widgets.Output(layout={'border': '1px solid black'})\n",
    "\n",
    "def show_details(event, qgrid):\n",
    "    output_area = selected\n",
    "    \n",
    "    with output_area:\n",
    "        row = qgrid.get_selected_df().dropna(axis=1, how='all').T\n",
    "        \n",
    "        display(row)\n",
    "        output_area.clear_output(wait=True)\n",
    "\n",
    "        \n",
    "bridge_sel = widgets.Dropdown (\n",
    "    options = bridges,\n",
    "    description = \"Bridge:\"\n",
    ")\n",
    "\n",
    "table_sel = widgets.Dropdown(\n",
    "    options=[0],\n",
    "    value=0,\n",
    "    description='Table:',\n",
    "    disabled=False,\n",
    ")\n",
    "\n",
    "priority_sel = widgets.Dropdown(\n",
    "    options=[-1],\n",
    "    value=-1,\n",
    "    description='Priority:',\n",
    "    disabled=False,\n",
    ")\n",
    "\n",
    "action_sel = widgets.Text(value='',\n",
    "                          placeholder='',\n",
    "                          description='Action match:',\n",
    "                          disabled=False)\n",
    "\n",
    "in_sel = widgets.Text(value='',\n",
    "                      placeholder='',\n",
    "                      description='In port match:',\n",
    "                      disabled=False)\n",
    "\n",
    "## Make table and priority selector show the options based on bridge\n",
    "def set_table_and_prio_options(change):\n",
    "    bridge = change[\"new\"]\n",
    "    with bridge_sel.hold_trait_notifications():\n",
    "        table_sel.options = numpy.append(-1, ofdumps[bridge]['table'].unique())\n",
    "        table_sel.value=0\n",
    "        priority_sel.options=numpy.append(-1, ofdumps[bridge]['priority'].unique())\n",
    "        \n",
    "        \n",
    "bridge_sel.observe(set_table_and_prio_options, 'value')\n",
    "        \n",
    "@interact\n",
    "def show_flows(bridge=bridge_sel,\n",
    "               table=table_sel,\n",
    "               priority=priority_sel,\n",
    "               action=action_sel,\n",
    "               in_port=in_sel):\n",
    "\n",
    "    flows = ofdumps[bridge]\n",
    "    global flow_grid\n",
    "    ncols = len(flows.index)\n",
    "\n",
    "    query = []\n",
    "    if table >= 0:\n",
    "        query.append(\"table == {}\".format(table))\n",
    "    if priority >= 0:\n",
    "        query.append(\"priority == {}\".format(priority))\n",
    "\n",
    "    if action:\n",
    "        _actions = flows['actions'].str.match(action) == True\n",
    "    else:\n",
    "        _actions = pd.Series([True for i in range(ncols)])\n",
    "\n",
    "    if in_port:\n",
    "        _in_port = flows['in_port'].astype('string').str.match(in_port) == True\n",
    "    else:\n",
    "        _in_port = pd.Series([True for i in range(ncols)])\n",
    "\n",
    "    _flows = flows[_actions & _in_port]\n",
    "\n",
    "    if query:\n",
    "        flow_grid = show_table(_flows.query(\" & \".join(query)))\n",
    "    else:\n",
    "        flow_grid = show_table(_flows)\n",
    "\n",
    "    flow_grid.on('selection_changed', show_details)\n",
    "\n",
    "    return flow_grid\n",
    "\n"
   ]
  },
  {
   "cell_type": "code",
   "execution_count": 13,
   "id": "proper-nursery",
   "metadata": {},
   "outputs": [
    {
     "data": {
      "application/vnd.jupyter.widget-view+json": {
       "model_id": "c76b31d6a3254663b4550b334e3d20b7",
       "version_major": 2,
       "version_minor": 0
      },
      "text/plain": [
       "Output(layout=Layout(border='1px solid black'))"
      ]
     },
     "metadata": {},
     "output_type": "display_data"
    }
   ],
   "source": [
    "selected"
   ]
  },
  {
   "cell_type": "markdown",
   "id": "noble-reach",
   "metadata": {},
   "source": [
    "### OVN"
   ]
  },
  {
   "cell_type": "code",
   "execution_count": 14,
   "id": "liquid-inspector",
   "metadata": {},
   "outputs": [
    {
     "data": {
      "application/vnd.jupyter.widget-view+json": {
       "model_id": "e518e9921aad4349a721bd7ba4d1828b",
       "version_major": 2,
       "version_minor": 0
      },
      "text/plain": [
       "interactive(children=(Dropdown(description='Table:', options=('Logical_Router_Static_Route', 'NB_Global', 'ACL…"
      ]
     },
     "metadata": {},
     "output_type": "display_data"
    },
    {
     "data": {
      "application/vnd.jupyter.widget-view+json": {
       "model_id": "c1d86d9fec7846e1a33df9bff77a2fbd",
       "version_major": 2,
       "version_minor": 0
      },
      "text/plain": [
       "interactive(children=(Dropdown(description='Table:', options=('RBAC_Permission', 'RBAC_Role', 'SB_Global', 'Po…"
      ]
     },
     "metadata": {},
     "output_type": "display_data"
    }
   ],
   "source": [
    "\n",
    "def show_ovn(db):\n",
    "    table_sel = widgets.Dropdown(\n",
    "        options = db.keys(),\n",
    "        description= \"Table:\"\n",
    "    )\n",
    "    ## We could automatically generate filter-widgets based on database schema\n",
    "    @interact\n",
    "    def show_flows(table=table_sel):\n",
    "        ##\n",
    "        return show_table(db[table])\n",
    "\n",
    "show_ovn(ovn_nb)\n",
    "show_ovn(ovn_sb)\n"
   ]
  },
  {
   "cell_type": "code",
   "execution_count": null,
   "id": "potential-rolling",
   "metadata": {},
   "outputs": [],
   "source": []
  }
 ],
 "metadata": {
  "kernelspec": {
   "display_name": "Python 3",
   "language": "python",
   "name": "python3"
  },
  "language_info": {
   "codemirror_mode": {
    "name": "ipython",
    "version": 3
   },
   "file_extension": ".py",
   "mimetype": "text/x-python",
   "name": "python",
   "nbconvert_exporter": "python",
   "pygments_lexer": "ipython3",
   "version": "3.9.1"
  }
 },
 "nbformat": 4,
 "nbformat_minor": 5
}
